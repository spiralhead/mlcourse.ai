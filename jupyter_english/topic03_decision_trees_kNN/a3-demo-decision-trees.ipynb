{
  "nbformat": 4,
  "nbformat_minor": 0,
  "metadata": {
    "kernelspec": {
      "display_name": "Python 3",
      "language": "python",
      "name": "python3"
    },
    "language_info": {
      "codemirror_mode": {
        "name": "ipython",
        "version": 3
      },
      "file_extension": ".py",
      "mimetype": "text/x-python",
      "name": "python",
      "nbconvert_exporter": "python",
      "pygments_lexer": "ipython3",
      "version": "3.7.1"
    },
    "colab": {
      "name": "a3-demo-decision-trees.ipynb",
      "provenance": []
    }
  },
  "cells": [
    {
      "cell_type": "markdown",
      "metadata": {
        "id": "4P49ecv7M5xM"
      },
      "source": [
        "<center>\n",
        "<img src=\"https://habrastorage.org/files/fd4/502/43d/fd450243dd604b81b9713213a247aa20.jpg\">\n",
        "    \n",
        "## [mlcourse.ai](https://mlcourse.ai) - Open Machine Learning Course\n",
        "\n",
        "Authors: [Maria Sumarokova](https://www.linkedin.com/in/mariya-sumarokova-230b4054/), and [Yury Kashnitsky](https://www.linkedin.com/in/festline/). Translated and edited by Gleb Filatov, Aleksey Kiselev, [Anastasia Manokhina](https://www.linkedin.com/in/anastasiamanokhina/), [Egor Polusmak](https://www.linkedin.com/in/egor-polusmak/), and [Yuanyuan Pao](https://www.linkedin.com/in/yuanyuanpao/). All content is distributed under the [Creative Commons CC BY-NC-SA 4.0](https://creativecommons.org/licenses/by-nc-sa/4.0/) license."
      ]
    },
    {
      "cell_type": "markdown",
      "metadata": {
        "id": "lLoxiHJeM5xU"
      },
      "source": [
        "# <center> Assignment #3 (demo)\n",
        "## <center>  Decision trees with a toy task and the UCI Adult dataset \n",
        "\n",
        "Same assignment as a [Kaggle Kernel](https://www.kaggle.com/kashnitsky/a3-demo-decision-trees) + [solution](https://www.kaggle.com/kashnitsky/a3-demo-decision-trees-solution). Fill in the answers in the [web-form](https://docs.google.com/forms/d/1wfWYYoqXTkZNOPy1wpewACXaj2MZjBdLOL58htGWYBA/edit)."
      ]
    },
    {
      "cell_type": "markdown",
      "metadata": {
        "id": "XzUUzf7hM5xV"
      },
      "source": [
        "Let's start by loading all necessary libraries:"
      ]
    },
    {
      "cell_type": "code",
      "metadata": {
        "id": "MK2V0oLsM5xW"
      },
      "source": [
        "%matplotlib inline\n",
        "from matplotlib import pyplot as plt\n",
        "plt.rcParams['figure.figsize'] = (10, 8)\n",
        "import seaborn as sns\n",
        "import numpy as np\n",
        "import pandas as pd\n",
        "from sklearn.preprocessing import LabelEncoder\n",
        "import collections\n",
        "from sklearn.model_selection import GridSearchCV\n",
        "from sklearn import preprocessing\n",
        "from sklearn.tree import DecisionTreeClassifier, export_graphviz\n",
        "from sklearn.ensemble import RandomForestClassifier\n",
        "from sklearn.metrics import accuracy_score\n",
        "from ipywidgets import Image\n",
        "from io import StringIO\n",
        "import pydotplus #pip install pydotplus"
      ],
      "execution_count": 35,
      "outputs": []
    },
    {
      "cell_type": "markdown",
      "metadata": {
        "id": "VL9xMmxcM5xY"
      },
      "source": [
        "### Part 1. Toy dataset \"Will They? Won't They?\""
      ]
    },
    {
      "cell_type": "markdown",
      "metadata": {
        "id": "f2h4U_akM5xY"
      },
      "source": [
        "Your goal is to figure out how decision trees work by walking through a toy problem. While a single decision tree does not yield outstanding results, other performant algorithms like gradient boosting and random forests are based on the same idea. That is why knowing how decision trees work might be useful."
      ]
    },
    {
      "cell_type": "markdown",
      "metadata": {
        "id": "cG53_ZhVM5xZ"
      },
      "source": [
        "We'll go through a toy example of binary classification - Person A is deciding whether they will go on a second date with Person B. It will depend on their looks, eloquence, alcohol consumption (only for example), and how much money was spent on the first date."
      ]
    },
    {
      "cell_type": "markdown",
      "metadata": {
        "id": "I0eWt8icM5xa"
      },
      "source": [
        "#### Creating the dataset"
      ]
    },
    {
      "cell_type": "code",
      "metadata": {
        "id": "pkvZeapvM5xb"
      },
      "source": [
        "# Create dataframe with dummy variables\n",
        "def create_df(dic, feature_list):\n",
        "    out = pd.DataFrame(dic)\n",
        "    out = pd.concat([out, pd.get_dummies(out[feature_list])], axis = 1)\n",
        "    out.drop(feature_list, axis = 1, inplace = True)\n",
        "    return out\n",
        "\n",
        "# Some feature values are present in train and absent in test and vice-versa.\n",
        "def intersect_features(train, test):\n",
        "    common_feat = list( set(train.keys()) & set(test.keys()))\n",
        "    return train[common_feat], test[common_feat]"
      ],
      "execution_count": 36,
      "outputs": []
    },
    {
      "cell_type": "code",
      "metadata": {
        "id": "qqY46D-kM5xd"
      },
      "source": [
        "features = ['Looks', 'Alcoholic_beverage','Eloquence','Money_spent']"
      ],
      "execution_count": 37,
      "outputs": []
    },
    {
      "cell_type": "markdown",
      "metadata": {
        "id": "hsPdmwCtM5xd"
      },
      "source": [
        "#### Training data"
      ]
    },
    {
      "cell_type": "code",
      "metadata": {
        "id": "QLSvqfwkM5xe",
        "colab": {
          "base_uri": "https://localhost:8080/",
          "height": 286
        },
        "outputId": "0a78a6e7-ac5e-4f64-86d7-aa12350b87ee"
      },
      "source": [
        "df_train = {}\n",
        "df_train['Looks'] = ['handsome', 'handsome', 'handsome', 'repulsive',\n",
        "                         'repulsive', 'repulsive', 'handsome'] \n",
        "df_train['Alcoholic_beverage'] = ['yes', 'yes', 'no', 'no', 'yes', 'yes', 'yes']\n",
        "df_train['Eloquence'] = ['high', 'low', 'average', 'average', 'low',\n",
        "                                   'high', 'average']\n",
        "df_train['Money_spent'] = ['lots', 'little', 'lots', 'little', 'lots',\n",
        "                                  'lots', 'lots']\n",
        "df_train['Will_go'] = LabelEncoder().fit_transform(['+', '-', '+', '-', '-', '+', '+'])\n",
        "\n",
        "df_train = create_df(df_train, features)\n",
        "df_train"
      ],
      "execution_count": 38,
      "outputs": [
        {
          "output_type": "execute_result",
          "data": {
            "text/html": [
              "<div>\n",
              "<style scoped>\n",
              "    .dataframe tbody tr th:only-of-type {\n",
              "        vertical-align: middle;\n",
              "    }\n",
              "\n",
              "    .dataframe tbody tr th {\n",
              "        vertical-align: top;\n",
              "    }\n",
              "\n",
              "    .dataframe thead th {\n",
              "        text-align: right;\n",
              "    }\n",
              "</style>\n",
              "<table border=\"1\" class=\"dataframe\">\n",
              "  <thead>\n",
              "    <tr style=\"text-align: right;\">\n",
              "      <th></th>\n",
              "      <th>Will_go</th>\n",
              "      <th>Looks_handsome</th>\n",
              "      <th>Looks_repulsive</th>\n",
              "      <th>Alcoholic_beverage_no</th>\n",
              "      <th>Alcoholic_beverage_yes</th>\n",
              "      <th>Eloquence_average</th>\n",
              "      <th>Eloquence_high</th>\n",
              "      <th>Eloquence_low</th>\n",
              "      <th>Money_spent_little</th>\n",
              "      <th>Money_spent_lots</th>\n",
              "    </tr>\n",
              "  </thead>\n",
              "  <tbody>\n",
              "    <tr>\n",
              "      <th>0</th>\n",
              "      <td>0</td>\n",
              "      <td>1</td>\n",
              "      <td>0</td>\n",
              "      <td>0</td>\n",
              "      <td>1</td>\n",
              "      <td>0</td>\n",
              "      <td>1</td>\n",
              "      <td>0</td>\n",
              "      <td>0</td>\n",
              "      <td>1</td>\n",
              "    </tr>\n",
              "    <tr>\n",
              "      <th>1</th>\n",
              "      <td>1</td>\n",
              "      <td>1</td>\n",
              "      <td>0</td>\n",
              "      <td>0</td>\n",
              "      <td>1</td>\n",
              "      <td>0</td>\n",
              "      <td>0</td>\n",
              "      <td>1</td>\n",
              "      <td>1</td>\n",
              "      <td>0</td>\n",
              "    </tr>\n",
              "    <tr>\n",
              "      <th>2</th>\n",
              "      <td>0</td>\n",
              "      <td>1</td>\n",
              "      <td>0</td>\n",
              "      <td>1</td>\n",
              "      <td>0</td>\n",
              "      <td>1</td>\n",
              "      <td>0</td>\n",
              "      <td>0</td>\n",
              "      <td>0</td>\n",
              "      <td>1</td>\n",
              "    </tr>\n",
              "    <tr>\n",
              "      <th>3</th>\n",
              "      <td>1</td>\n",
              "      <td>0</td>\n",
              "      <td>1</td>\n",
              "      <td>1</td>\n",
              "      <td>0</td>\n",
              "      <td>1</td>\n",
              "      <td>0</td>\n",
              "      <td>0</td>\n",
              "      <td>1</td>\n",
              "      <td>0</td>\n",
              "    </tr>\n",
              "    <tr>\n",
              "      <th>4</th>\n",
              "      <td>1</td>\n",
              "      <td>0</td>\n",
              "      <td>1</td>\n",
              "      <td>0</td>\n",
              "      <td>1</td>\n",
              "      <td>0</td>\n",
              "      <td>0</td>\n",
              "      <td>1</td>\n",
              "      <td>0</td>\n",
              "      <td>1</td>\n",
              "    </tr>\n",
              "    <tr>\n",
              "      <th>5</th>\n",
              "      <td>0</td>\n",
              "      <td>0</td>\n",
              "      <td>1</td>\n",
              "      <td>0</td>\n",
              "      <td>1</td>\n",
              "      <td>0</td>\n",
              "      <td>1</td>\n",
              "      <td>0</td>\n",
              "      <td>0</td>\n",
              "      <td>1</td>\n",
              "    </tr>\n",
              "    <tr>\n",
              "      <th>6</th>\n",
              "      <td>0</td>\n",
              "      <td>1</td>\n",
              "      <td>0</td>\n",
              "      <td>0</td>\n",
              "      <td>1</td>\n",
              "      <td>1</td>\n",
              "      <td>0</td>\n",
              "      <td>0</td>\n",
              "      <td>0</td>\n",
              "      <td>1</td>\n",
              "    </tr>\n",
              "  </tbody>\n",
              "</table>\n",
              "</div>"
            ],
            "text/plain": [
              "   Will_go  Looks_handsome  ...  Money_spent_little  Money_spent_lots\n",
              "0        0               1  ...                   0                 1\n",
              "1        1               1  ...                   1                 0\n",
              "2        0               1  ...                   0                 1\n",
              "3        1               0  ...                   1                 0\n",
              "4        1               0  ...                   0                 1\n",
              "5        0               0  ...                   0                 1\n",
              "6        0               1  ...                   0                 1\n",
              "\n",
              "[7 rows x 10 columns]"
            ]
          },
          "metadata": {},
          "execution_count": 38
        }
      ]
    },
    {
      "cell_type": "markdown",
      "metadata": {
        "id": "rKuqTLroM5xf"
      },
      "source": [
        "#### Test data"
      ]
    },
    {
      "cell_type": "code",
      "metadata": {
        "id": "RzUxJo9pM5xf",
        "colab": {
          "base_uri": "https://localhost:8080/",
          "height": 162
        },
        "outputId": "5c41bcf9-7460-4f52-a8a0-8d1ca1496d50"
      },
      "source": [
        "df_test = {}\n",
        "df_test['Looks'] = ['handsome', 'handsome', 'repulsive'] \n",
        "df_test['Alcoholic_beverage'] = ['no', 'yes', 'yes']\n",
        "df_test['Eloquence'] = ['average', 'high', 'average']\n",
        "df_test['Money_spent'] = ['lots', 'little', 'lots']\n",
        "df_test = create_df(df_test, features)\n",
        "df_test"
      ],
      "execution_count": 39,
      "outputs": [
        {
          "output_type": "execute_result",
          "data": {
            "text/html": [
              "<div>\n",
              "<style scoped>\n",
              "    .dataframe tbody tr th:only-of-type {\n",
              "        vertical-align: middle;\n",
              "    }\n",
              "\n",
              "    .dataframe tbody tr th {\n",
              "        vertical-align: top;\n",
              "    }\n",
              "\n",
              "    .dataframe thead th {\n",
              "        text-align: right;\n",
              "    }\n",
              "</style>\n",
              "<table border=\"1\" class=\"dataframe\">\n",
              "  <thead>\n",
              "    <tr style=\"text-align: right;\">\n",
              "      <th></th>\n",
              "      <th>Looks_handsome</th>\n",
              "      <th>Looks_repulsive</th>\n",
              "      <th>Alcoholic_beverage_no</th>\n",
              "      <th>Alcoholic_beverage_yes</th>\n",
              "      <th>Eloquence_average</th>\n",
              "      <th>Eloquence_high</th>\n",
              "      <th>Money_spent_little</th>\n",
              "      <th>Money_spent_lots</th>\n",
              "    </tr>\n",
              "  </thead>\n",
              "  <tbody>\n",
              "    <tr>\n",
              "      <th>0</th>\n",
              "      <td>1</td>\n",
              "      <td>0</td>\n",
              "      <td>1</td>\n",
              "      <td>0</td>\n",
              "      <td>1</td>\n",
              "      <td>0</td>\n",
              "      <td>0</td>\n",
              "      <td>1</td>\n",
              "    </tr>\n",
              "    <tr>\n",
              "      <th>1</th>\n",
              "      <td>1</td>\n",
              "      <td>0</td>\n",
              "      <td>0</td>\n",
              "      <td>1</td>\n",
              "      <td>0</td>\n",
              "      <td>1</td>\n",
              "      <td>1</td>\n",
              "      <td>0</td>\n",
              "    </tr>\n",
              "    <tr>\n",
              "      <th>2</th>\n",
              "      <td>0</td>\n",
              "      <td>1</td>\n",
              "      <td>0</td>\n",
              "      <td>1</td>\n",
              "      <td>1</td>\n",
              "      <td>0</td>\n",
              "      <td>0</td>\n",
              "      <td>1</td>\n",
              "    </tr>\n",
              "  </tbody>\n",
              "</table>\n",
              "</div>"
            ],
            "text/plain": [
              "   Looks_handsome  Looks_repulsive  ...  Money_spent_little  Money_spent_lots\n",
              "0               1                0  ...                   0                 1\n",
              "1               1                0  ...                   1                 0\n",
              "2               0                1  ...                   0                 1\n",
              "\n",
              "[3 rows x 8 columns]"
            ]
          },
          "metadata": {},
          "execution_count": 39
        }
      ]
    },
    {
      "cell_type": "code",
      "metadata": {
        "id": "z35ansnyM5xf",
        "colab": {
          "base_uri": "https://localhost:8080/",
          "height": 286
        },
        "outputId": "025a2e56-7a95-474e-805f-cc4c25708e6a"
      },
      "source": [
        "# Some feature values are present in train and absent in test and vice-versa.\n",
        "y = df_train['Will_go']\n",
        "df_train, df_test = intersect_features(train=df_train, test=df_test)\n",
        "df_train"
      ],
      "execution_count": 40,
      "outputs": [
        {
          "output_type": "execute_result",
          "data": {
            "text/html": [
              "<div>\n",
              "<style scoped>\n",
              "    .dataframe tbody tr th:only-of-type {\n",
              "        vertical-align: middle;\n",
              "    }\n",
              "\n",
              "    .dataframe tbody tr th {\n",
              "        vertical-align: top;\n",
              "    }\n",
              "\n",
              "    .dataframe thead th {\n",
              "        text-align: right;\n",
              "    }\n",
              "</style>\n",
              "<table border=\"1\" class=\"dataframe\">\n",
              "  <thead>\n",
              "    <tr style=\"text-align: right;\">\n",
              "      <th></th>\n",
              "      <th>Alcoholic_beverage_no</th>\n",
              "      <th>Looks_repulsive</th>\n",
              "      <th>Money_spent_lots</th>\n",
              "      <th>Eloquence_high</th>\n",
              "      <th>Eloquence_average</th>\n",
              "      <th>Alcoholic_beverage_yes</th>\n",
              "      <th>Looks_handsome</th>\n",
              "      <th>Money_spent_little</th>\n",
              "    </tr>\n",
              "  </thead>\n",
              "  <tbody>\n",
              "    <tr>\n",
              "      <th>0</th>\n",
              "      <td>0</td>\n",
              "      <td>0</td>\n",
              "      <td>1</td>\n",
              "      <td>1</td>\n",
              "      <td>0</td>\n",
              "      <td>1</td>\n",
              "      <td>1</td>\n",
              "      <td>0</td>\n",
              "    </tr>\n",
              "    <tr>\n",
              "      <th>1</th>\n",
              "      <td>0</td>\n",
              "      <td>0</td>\n",
              "      <td>0</td>\n",
              "      <td>0</td>\n",
              "      <td>0</td>\n",
              "      <td>1</td>\n",
              "      <td>1</td>\n",
              "      <td>1</td>\n",
              "    </tr>\n",
              "    <tr>\n",
              "      <th>2</th>\n",
              "      <td>1</td>\n",
              "      <td>0</td>\n",
              "      <td>1</td>\n",
              "      <td>0</td>\n",
              "      <td>1</td>\n",
              "      <td>0</td>\n",
              "      <td>1</td>\n",
              "      <td>0</td>\n",
              "    </tr>\n",
              "    <tr>\n",
              "      <th>3</th>\n",
              "      <td>1</td>\n",
              "      <td>1</td>\n",
              "      <td>0</td>\n",
              "      <td>0</td>\n",
              "      <td>1</td>\n",
              "      <td>0</td>\n",
              "      <td>0</td>\n",
              "      <td>1</td>\n",
              "    </tr>\n",
              "    <tr>\n",
              "      <th>4</th>\n",
              "      <td>0</td>\n",
              "      <td>1</td>\n",
              "      <td>1</td>\n",
              "      <td>0</td>\n",
              "      <td>0</td>\n",
              "      <td>1</td>\n",
              "      <td>0</td>\n",
              "      <td>0</td>\n",
              "    </tr>\n",
              "    <tr>\n",
              "      <th>5</th>\n",
              "      <td>0</td>\n",
              "      <td>1</td>\n",
              "      <td>1</td>\n",
              "      <td>1</td>\n",
              "      <td>0</td>\n",
              "      <td>1</td>\n",
              "      <td>0</td>\n",
              "      <td>0</td>\n",
              "    </tr>\n",
              "    <tr>\n",
              "      <th>6</th>\n",
              "      <td>0</td>\n",
              "      <td>0</td>\n",
              "      <td>1</td>\n",
              "      <td>0</td>\n",
              "      <td>1</td>\n",
              "      <td>1</td>\n",
              "      <td>1</td>\n",
              "      <td>0</td>\n",
              "    </tr>\n",
              "  </tbody>\n",
              "</table>\n",
              "</div>"
            ],
            "text/plain": [
              "   Alcoholic_beverage_no  Looks_repulsive  ...  Looks_handsome  Money_spent_little\n",
              "0                      0                0  ...               1                   0\n",
              "1                      0                0  ...               1                   1\n",
              "2                      1                0  ...               1                   0\n",
              "3                      1                1  ...               0                   1\n",
              "4                      0                1  ...               0                   0\n",
              "5                      0                1  ...               0                   0\n",
              "6                      0                0  ...               1                   0\n",
              "\n",
              "[7 rows x 8 columns]"
            ]
          },
          "metadata": {},
          "execution_count": 40
        }
      ]
    },
    {
      "cell_type": "code",
      "metadata": {
        "id": "UpaeLpmiM5xg",
        "colab": {
          "base_uri": "https://localhost:8080/",
          "height": 162
        },
        "outputId": "d11ee0e3-f580-408e-b196-f00bc076e8a1"
      },
      "source": [
        "df_test"
      ],
      "execution_count": 41,
      "outputs": [
        {
          "output_type": "execute_result",
          "data": {
            "text/html": [
              "<div>\n",
              "<style scoped>\n",
              "    .dataframe tbody tr th:only-of-type {\n",
              "        vertical-align: middle;\n",
              "    }\n",
              "\n",
              "    .dataframe tbody tr th {\n",
              "        vertical-align: top;\n",
              "    }\n",
              "\n",
              "    .dataframe thead th {\n",
              "        text-align: right;\n",
              "    }\n",
              "</style>\n",
              "<table border=\"1\" class=\"dataframe\">\n",
              "  <thead>\n",
              "    <tr style=\"text-align: right;\">\n",
              "      <th></th>\n",
              "      <th>Alcoholic_beverage_no</th>\n",
              "      <th>Looks_repulsive</th>\n",
              "      <th>Money_spent_lots</th>\n",
              "      <th>Eloquence_high</th>\n",
              "      <th>Eloquence_average</th>\n",
              "      <th>Alcoholic_beverage_yes</th>\n",
              "      <th>Looks_handsome</th>\n",
              "      <th>Money_spent_little</th>\n",
              "    </tr>\n",
              "  </thead>\n",
              "  <tbody>\n",
              "    <tr>\n",
              "      <th>0</th>\n",
              "      <td>1</td>\n",
              "      <td>0</td>\n",
              "      <td>1</td>\n",
              "      <td>0</td>\n",
              "      <td>1</td>\n",
              "      <td>0</td>\n",
              "      <td>1</td>\n",
              "      <td>0</td>\n",
              "    </tr>\n",
              "    <tr>\n",
              "      <th>1</th>\n",
              "      <td>0</td>\n",
              "      <td>0</td>\n",
              "      <td>0</td>\n",
              "      <td>1</td>\n",
              "      <td>0</td>\n",
              "      <td>1</td>\n",
              "      <td>1</td>\n",
              "      <td>1</td>\n",
              "    </tr>\n",
              "    <tr>\n",
              "      <th>2</th>\n",
              "      <td>0</td>\n",
              "      <td>1</td>\n",
              "      <td>1</td>\n",
              "      <td>0</td>\n",
              "      <td>1</td>\n",
              "      <td>1</td>\n",
              "      <td>0</td>\n",
              "      <td>0</td>\n",
              "    </tr>\n",
              "  </tbody>\n",
              "</table>\n",
              "</div>"
            ],
            "text/plain": [
              "   Alcoholic_beverage_no  Looks_repulsive  ...  Looks_handsome  Money_spent_little\n",
              "0                      1                0  ...               1                   0\n",
              "1                      0                0  ...               1                   1\n",
              "2                      0                1  ...               0                   0\n",
              "\n",
              "[3 rows x 8 columns]"
            ]
          },
          "metadata": {},
          "execution_count": 41
        }
      ]
    },
    {
      "cell_type": "markdown",
      "metadata": {
        "id": "J7mxo9qpM5xg"
      },
      "source": [
        "#### Draw a decision tree (by hand or in any graphics editor) for this dataset. Optionally you can also implement tree construction and draw it here."
      ]
    },
    {
      "cell_type": "markdown",
      "metadata": {
        "id": "1glstCuPM5xh"
      },
      "source": [
        "1\\. What is the entropy $S_0$ of the initial system? By system states, we mean values of the binary feature \"Will_go\" - 0 or 1 - two states in total."
      ]
    },
    {
      "cell_type": "code",
      "metadata": {
        "id": "uLxquImHM5xh",
        "colab": {
          "base_uri": "https://localhost:8080/"
        },
        "outputId": "dc3160ab-cfec-4589-c19c-bdb3d6acc48b"
      },
      "source": [
        "def entropy(df_series):\n",
        "  probabilities = df_series.value_counts(normalize=True)\n",
        "  return probabilities.apply(lambda x:-x*np.log2(x)).sum()\n",
        "\n",
        "print(entropy(y))"
      ],
      "execution_count": 42,
      "outputs": [
        {
          "output_type": "stream",
          "name": "stdout",
          "text": [
            "0.9852281360342515\n"
          ]
        }
      ]
    },
    {
      "cell_type": "markdown",
      "metadata": {
        "id": "-XxC7RYWM5xh"
      },
      "source": [
        "2\\. Let's split the data by the feature \"Looks_handsome\". What is the entropy $S_1$ of the left group - the one with \"Looks_handsome\". What is the entropy $S_2$ in the opposite group? What is the information gain (IG) if we consider such a split?"
      ]
    },
    {
      "cell_type": "code",
      "metadata": {
        "id": "mCaStusBM5xi",
        "colab": {
          "base_uri": "https://localhost:8080/"
        },
        "outputId": "206bc0a2-04be-4ca7-9b59-748a35e5cbc4"
      },
      "source": [
        "look_handsome_index = df_train.index[df_train['Looks_handsome']==1]\n",
        "look_repulsive_index = df_train.index[df_train['Looks_repulsive']==1]\n",
        "y_handsome = y.loc[look_handsome_index]\n",
        "y_repulsive = y.loc[look_repulsive_index]\n",
        "gain = entropy(y) - entropy(y_handsome)*len(y_handsome)/len(y) - entropy(y_repulsive)*len(y_repulsive)/len(y)\n",
        "print(f'Entropy of handsome group is {entropy(y_handsome)}')\n",
        "print(f'Entropy of repulsive group is {entropy(y_repulsive)}')\n",
        "print(f'Gain is {gain}')"
      ],
      "execution_count": 43,
      "outputs": [
        {
          "output_type": "stream",
          "name": "stdout",
          "text": [
            "Entropy of handsome group is 0.8112781244591328\n",
            "Entropy of repulsive group is 0.9182958340544896\n",
            "Gain is 0.12808527889139437\n"
          ]
        }
      ]
    },
    {
      "cell_type": "markdown",
      "metadata": {
        "id": "PwOq1rD5M5xi"
      },
      "source": [
        "#### Train a decision tree using sklearn on the training data. You may choose any depth for the tree."
      ]
    },
    {
      "cell_type": "code",
      "metadata": {
        "id": "LhDVkO3QM5xi",
        "outputId": "be1edd3b-38fe-4c33-8be7-423a3c28514a",
        "colab": {
          "base_uri": "https://localhost:8080/"
        }
      },
      "source": [
        "from sklearn.tree import DecisionTreeClassifier\n",
        "\n",
        "dec_tree = DecisionTreeClassifier(max_depth=10)\n",
        "dec_tree.fit(df_train,y)\n"
      ],
      "execution_count": 44,
      "outputs": [
        {
          "output_type": "execute_result",
          "data": {
            "text/plain": [
              "DecisionTreeClassifier(ccp_alpha=0.0, class_weight=None, criterion='gini',\n",
              "                       max_depth=10, max_features=None, max_leaf_nodes=None,\n",
              "                       min_impurity_decrease=0.0, min_impurity_split=None,\n",
              "                       min_samples_leaf=1, min_samples_split=2,\n",
              "                       min_weight_fraction_leaf=0.0, presort='deprecated',\n",
              "                       random_state=None, splitter='best')"
            ]
          },
          "metadata": {},
          "execution_count": 44
        }
      ]
    },
    {
      "cell_type": "markdown",
      "metadata": {
        "id": "EyV4Qxx5M5xj"
      },
      "source": [
        "#### Additional: display the resulting tree using graphviz. You can use pydot or [web-service](https://www.coolutils.com/ru/online/DOT-to-PNG) dot2png."
      ]
    },
    {
      "cell_type": "code",
      "metadata": {
        "id": "6RCeTuo2M5xj",
        "outputId": "f443bfae-c128-459a-d0e4-f20923063c80",
        "colab": {
          "base_uri": "https://localhost:8080/",
          "height": 514
        }
      },
      "source": [
        "import pydotplus  # pip install pydotplus\n",
        "from sklearn.tree import export_graphviz\n",
        "\n",
        "\n",
        "def tree_graph_to_png(tree, feature_names, png_file_to_save):\n",
        "    tree_str = export_graphviz(\n",
        "        tree, feature_names=feature_names, filled=True, out_file=None\n",
        "    )\n",
        "    graph = pydotplus.graph_from_dot_data(tree_str)\n",
        "    graph.write_png(png_file_to_save)\n",
        "\n",
        "tree_graph_to_png(\n",
        "    tree=dec_tree,\n",
        "    feature_names=df_train.columns,\n",
        "    png_file_to_save=\"topic3_decision_tree1.png\",\n",
        ")\n",
        "from IPython.display import Image\n",
        "Image('topic3_decision_tree1.png')\n",
        "\n",
        "  "
      ],
      "execution_count": 45,
      "outputs": [
        {
          "output_type": "execute_result",
          "data": {
            "image/png": "[encoded data removed]",
            "text/plain": [
              "<IPython.core.display.Image object>"
            ]
          },
          "metadata": {},
          "execution_count": 45
        }
      ]
    },
    {
      "cell_type": "markdown",
      "metadata": {
        "id": "88SdH_T8M5xj"
      },
      "source": [
        "### Part 2. Functions for calculating entropy and information gain."
      ]
    },
    {
      "cell_type": "markdown",
      "metadata": {
        "id": "tUjwYgDYM5xj"
      },
      "source": [
        "Consider the following warm-up example: we have 9 blue balls and 11 yellow balls. Let ball have label **1** if it is blue, **0** otherwise."
      ]
    },
    {
      "cell_type": "code",
      "metadata": {
        "id": "J3OM9MZ9M5xk"
      },
      "source": [
        "balls = [1 for i in range(9)] + [0 for i in range(11)]"
      ],
      "execution_count": 46,
      "outputs": []
    },
    {
      "cell_type": "markdown",
      "metadata": {
        "id": "bjDllHlqM5xk"
      },
      "source": [
        "<img src = 'https://habrastorage.org/webt/mu/vl/mt/muvlmtd2njeqf18trbldenpqvnm.png'>"
      ]
    },
    {
      "cell_type": "markdown",
      "metadata": {
        "id": "V7yAPsXRM5xk"
      },
      "source": [
        "Next split the balls into two groups:"
      ]
    },
    {
      "cell_type": "markdown",
      "metadata": {
        "id": "WV5OhBTXM5xk"
      },
      "source": [
        "<img src='https://habrastorage.org/webt/bd/aq/5w/bdaq5wi3c4feezaexponvin8wmo.png'>"
      ]
    },
    {
      "cell_type": "code",
      "metadata": {
        "id": "kKqI2SvdM5xl"
      },
      "source": [
        "# two groups\n",
        "balls_left  = [1 for i in range(8)] + [0 for i in range(5)] # 8 blue and 5 yellow\n",
        "balls_right = [1 for i in range(1)] + [0 for i in range(6)] # 1 blue and 6 yellow"
      ],
      "execution_count": 47,
      "outputs": []
    },
    {
      "cell_type": "markdown",
      "metadata": {
        "id": "CWt3BIYmM5xl"
      },
      "source": [
        "#### Implement a function to calculate the Shannon Entropy"
      ]
    },
    {
      "cell_type": "code",
      "metadata": {
        "id": "shGQxXP0M5xl"
      },
      "source": [
        "from collections import Counter\n",
        "def entropy(a_list):\n",
        "    counter = Counter(a_list)\n",
        "    entropy = 0\n",
        "    for key in counter.keys():\n",
        "      entropy -= counter[key]*np.log2(counter[key]/len(a_list))/len(a_list)\n",
        "    return entropy"
      ],
      "execution_count": 51,
      "outputs": []
    },
    {
      "cell_type": "markdown",
      "metadata": {
        "id": "FFfj8dw9M5xl"
      },
      "source": [
        "Tests"
      ]
    },
    {
      "cell_type": "code",
      "metadata": {
        "id": "vg_Et2sTM5xm",
        "outputId": "528afa1b-232e-43be-a3aa-8d8ea2d5a996",
        "colab": {
          "base_uri": "https://localhost:8080/"
        }
      },
      "source": [
        "print(entropy(balls)) # 9 blue и 11 yellow\n",
        "print(entropy(balls_left)) # 8 blue и 5 yellow\n",
        "print(entropy(balls_right)) # 1 blue и 6 yellow\n",
        "print(entropy([1,2,3,4,5,6])) # entropy of a fair 6-sided die"
      ],
      "execution_count": 54,
      "outputs": [
        {
          "output_type": "stream",
          "name": "stdout",
          "text": [
            "0.9927744539878083\n",
            "0.9612366047228759\n",
            "0.5916727785823275\n",
            "2.584962500721156\n"
          ]
        }
      ]
    },
    {
      "cell_type": "markdown",
      "metadata": {
        "id": "rc9b4l4OM5xm"
      },
      "source": [
        "3\\. What is the entropy of the state given by the list **balls_left**?"
      ]
    },
    {
      "cell_type": "markdown",
      "metadata": {
        "id": "zTbLzC8eM5xm"
      },
      "source": [
        "4\\. What is the entropy of a fair dice? (where we look at a dice as a system with 6 equally probable states)?"
      ]
    },
    {
      "cell_type": "code",
      "metadata": {
        "id": "Oj1NEx2cM5xn",
        "outputId": "c2a74153-574f-489d-e969-570a0a35baac",
        "colab": {
          "base_uri": "https://localhost:8080/"
        }
      },
      "source": [
        "# information gain calculation\n",
        "def information_gain(root, left, right):\n",
        "    ''' root - initial data, left and right - two partitions of initial data'''\n",
        "    return entropy(root) - entropy(left) * len(left)/len(root) - entropy(right) * len(right)/len(root)\n",
        "\n",
        "information_gain(balls,balls_left, balls_right)"
      ],
      "execution_count": 56,
      "outputs": [
        {
          "output_type": "execute_result",
          "data": {
            "text/plain": [
              "0.16088518841412433"
            ]
          },
          "metadata": {},
          "execution_count": 56
        }
      ]
    },
    {
      "cell_type": "markdown",
      "metadata": {
        "id": "iy1gQcfAM5xn"
      },
      "source": [
        "5\\. What is the information gain from splitting the initial dataset into **balls_left** and **balls_right** ?"
      ]
    },
    {
      "cell_type": "code",
      "metadata": {
        "id": "3WYylMyNM5xn"
      },
      "source": [
        "def best_feature_to_split(X, y):\n",
        "    '''Outputs information gain when splitting on best feature'''\n",
        "    \n",
        "    # you code here\n",
        "    pass"
      ],
      "execution_count": null,
      "outputs": []
    },
    {
      "cell_type": "markdown",
      "metadata": {
        "id": "5vuePQFYM5xn"
      },
      "source": [
        "#### Optional:\n",
        "- Implement a decision tree building algorithm by calling **best_feature_to_split** recursively\n",
        "- Plot the resulting tree"
      ]
    },
    {
      "cell_type": "markdown",
      "metadata": {
        "id": "r0fKGJbhM5xo"
      },
      "source": [
        "### Part 3. The \"Adult\" dataset"
      ]
    },
    {
      "cell_type": "markdown",
      "metadata": {
        "id": "jqr7VZf0M5xo"
      },
      "source": [
        "#### Dataset description:"
      ]
    },
    {
      "cell_type": "markdown",
      "metadata": {
        "id": "eTM6_eu3M5xo"
      },
      "source": [
        "[Dataset](http://archive.ics.uci.edu/ml/machine-learning-databases/adult) UCI Adult (no need to download it, we have a copy in the course repository): classify people using demographical data - whether they earn more than \\$50,000 per year or not."
      ]
    },
    {
      "cell_type": "markdown",
      "metadata": {
        "id": "KiBbcX4TM5xo"
      },
      "source": [
        "Feature descriptions:"
      ]
    },
    {
      "cell_type": "markdown",
      "metadata": {
        "id": "qIKJH6zZM5xo"
      },
      "source": [
        "- **Age** – continuous feature\n",
        "- **Workclass** –  continuous feature\n",
        "- **fnlwgt** – final weight of object, continuous feature\n",
        "- **Education** –  categorical feature\n",
        "- **Education_Num** – number of years of education, continuous feature\n",
        "- **Martial_Status** –  categorical feature\n",
        "- **Occupation** –  categorical feature\n",
        "- **Relationship** – categorical feature\n",
        "- **Race** – categorical feature\n",
        "- **Sex** – categorical feature\n",
        "- **Capital_Gain** – continuous feature\n",
        "- **Capital_Loss** – continuous feature\n",
        "- **Hours_per_week** – continuous feature\n",
        "- **Country** – categorical feature"
      ]
    },
    {
      "cell_type": "markdown",
      "metadata": {
        "id": "f7ZF-YOWM5xp"
      },
      "source": [
        "**Target** – earnings level, categorical (binary) feature."
      ]
    },
    {
      "cell_type": "markdown",
      "metadata": {
        "id": "Te3iBgBqM5xp"
      },
      "source": [
        "#### Reading train and test data"
      ]
    },
    {
      "cell_type": "code",
      "metadata": {
        "id": "oxZyckwcM5xp"
      },
      "source": [
        "data_train = pd.read_csv('../input/adult_train.csv')"
      ],
      "execution_count": null,
      "outputs": []
    },
    {
      "cell_type": "code",
      "metadata": {
        "id": "UpifTfCIM5xp"
      },
      "source": [
        "data_train.tail()"
      ],
      "execution_count": null,
      "outputs": []
    },
    {
      "cell_type": "code",
      "metadata": {
        "id": "I490gVB9M5xp"
      },
      "source": [
        "data_test = pd.read_csv('../input/adult_test.csv')"
      ],
      "execution_count": null,
      "outputs": []
    },
    {
      "cell_type": "code",
      "metadata": {
        "id": "WljnnQMKM5xq"
      },
      "source": [
        "data_test.tail()"
      ],
      "execution_count": null,
      "outputs": []
    },
    {
      "cell_type": "code",
      "metadata": {
        "id": "HzR02-AJM5xq"
      },
      "source": [
        "# necessary to remove rows with incorrect labels in test dataset\n",
        "data_test = data_test[(data_test['Target'] == ' >50K.') | (data_test['Target']==' <=50K.')]\n",
        "\n",
        "# encode target variable as integer\n",
        "data_train.loc[data_train['Target']==' <=50K', 'Target'] = 0\n",
        "data_train.loc[data_train['Target']==' >50K', 'Target'] = 1\n",
        "\n",
        "data_test.loc[data_test['Target']==' <=50K.', 'Target'] = 0\n",
        "data_test.loc[data_test['Target']==' >50K.', 'Target'] = 1"
      ],
      "execution_count": null,
      "outputs": []
    },
    {
      "cell_type": "markdown",
      "metadata": {
        "id": "XnKhrHzxM5xq"
      },
      "source": [
        "#### Primary data analysis"
      ]
    },
    {
      "cell_type": "code",
      "metadata": {
        "id": "rJIacQTBM5xq"
      },
      "source": [
        "data_test.describe(include='all').T"
      ],
      "execution_count": null,
      "outputs": []
    },
    {
      "cell_type": "code",
      "metadata": {
        "id": "-JvR7moAM5xq"
      },
      "source": [
        "data_train['Target'].value_counts()"
      ],
      "execution_count": null,
      "outputs": []
    },
    {
      "cell_type": "code",
      "metadata": {
        "id": "X-BgoSKfM5xr"
      },
      "source": [
        "fig = plt.figure(figsize=(25, 15))\n",
        "cols = 5\n",
        "rows = np.ceil(float(data_train.shape[1]) / cols)\n",
        "for i, column in enumerate(data_train.columns):\n",
        "    ax = fig.add_subplot(rows, cols, i + 1)\n",
        "    ax.set_title(column)\n",
        "    if data_train.dtypes[column] == np.object:\n",
        "        data_train[column].value_counts().plot(kind=\"bar\", axes=ax)\n",
        "    else:\n",
        "        data_train[column].hist(axes=ax)\n",
        "        plt.xticks(rotation=\"vertical\")\n",
        "plt.subplots_adjust(hspace=0.7, wspace=0.2)"
      ],
      "execution_count": null,
      "outputs": []
    },
    {
      "cell_type": "markdown",
      "metadata": {
        "id": "yaFQTnICM5xr"
      },
      "source": [
        "#### Checking data types"
      ]
    },
    {
      "cell_type": "code",
      "metadata": {
        "id": "4olzH8czM5xr"
      },
      "source": [
        "data_train.dtypes"
      ],
      "execution_count": null,
      "outputs": []
    },
    {
      "cell_type": "code",
      "metadata": {
        "id": "IYYbpb6cM5xr"
      },
      "source": [
        "data_test.dtypes"
      ],
      "execution_count": null,
      "outputs": []
    },
    {
      "cell_type": "markdown",
      "metadata": {
        "id": "CKr2S8mKM5xs"
      },
      "source": [
        "As we see, in the test data, age is treated as type **object**. We need to fix this."
      ]
    },
    {
      "cell_type": "code",
      "metadata": {
        "id": "ycoBb3-oM5xs"
      },
      "source": [
        "data_test['Age'] = data_test['Age'].astype(int)"
      ],
      "execution_count": null,
      "outputs": []
    },
    {
      "cell_type": "markdown",
      "metadata": {
        "id": "CcUGHmQTM5xs"
      },
      "source": [
        "Also we'll cast all **float** features to **int** type to keep types consistent between our train and test data."
      ]
    },
    {
      "cell_type": "code",
      "metadata": {
        "id": "jCCrR1OsM5xs"
      },
      "source": [
        "data_test['fnlwgt'] = data_test['fnlwgt'].astype(int)\n",
        "data_test['Education_Num'] = data_test['Education_Num'].astype(int)\n",
        "data_test['Capital_Gain'] = data_test['Capital_Gain'].astype(int)\n",
        "data_test['Capital_Loss'] = data_test['Capital_Loss'].astype(int)\n",
        "data_test['Hours_per_week'] = data_test['Hours_per_week'].astype(int)"
      ],
      "execution_count": null,
      "outputs": []
    },
    {
      "cell_type": "markdown",
      "metadata": {
        "id": "l5j4jOivM5xs"
      },
      "source": [
        "#### Fill in missing data for continuous features with their median values, for categorical features with their mode."
      ]
    },
    {
      "cell_type": "code",
      "metadata": {
        "id": "bHX5soR6M5xs"
      },
      "source": [
        "# choose categorical and continuous features from data\n",
        "\n",
        "categorical_columns = [c for c in data_train.columns \n",
        "                       if data_train[c].dtype.name == 'object']\n",
        "numerical_columns = [c for c in data_train.columns \n",
        "                     if data_train[c].dtype.name != 'object']\n",
        "\n",
        "print('categorical_columns:', categorical_columns)\n",
        "print('numerical_columns:', numerical_columns)"
      ],
      "execution_count": null,
      "outputs": []
    },
    {
      "cell_type": "code",
      "metadata": {
        "id": "akWTZe4GM5xt"
      },
      "source": [
        "# we see some missing values\n",
        "data_train.info()"
      ],
      "execution_count": null,
      "outputs": []
    },
    {
      "cell_type": "code",
      "metadata": {
        "id": "ZbDmuqwKM5xt"
      },
      "source": [
        "# fill missing data\n",
        "\n",
        "for c in categorical_columns:\n",
        "    data_train[c].fillna(data_train[c].mode()[0], inplace=True)\n",
        "    data_test[c].fillna(data_train[c].mode()[0], inplace=True)\n",
        "    \n",
        "for c in numerical_columns:\n",
        "    data_train[c].fillna(data_train[c].median(), inplace=True)\n",
        "    data_test[c].fillna(data_train[c].median(), inplace=True)"
      ],
      "execution_count": null,
      "outputs": []
    },
    {
      "cell_type": "code",
      "metadata": {
        "id": "5pgZ5CBaM5xt"
      },
      "source": [
        "# no more missing values\n",
        "data_train.info()"
      ],
      "execution_count": null,
      "outputs": []
    },
    {
      "cell_type": "markdown",
      "metadata": {
        "id": "JbKcFHlkM5xt"
      },
      "source": [
        "We'll dummy code some categorical features: **Workclass**, **Education**, **Martial_Status**, **Occupation**, **Relationship**, **Race**, **Sex**, **Country**. It can be done via pandas method **get_dummies**"
      ]
    },
    {
      "cell_type": "code",
      "metadata": {
        "id": "_e_R6_YAM5xt"
      },
      "source": [
        "data_train = pd.concat([data_train[numerical_columns],\n",
        "    pd.get_dummies(data_train[categorical_columns])], axis=1)\n",
        "\n",
        "data_test = pd.concat([data_test[numerical_columns],\n",
        "    pd.get_dummies(data_test[categorical_columns])], axis=1)"
      ],
      "execution_count": null,
      "outputs": []
    },
    {
      "cell_type": "code",
      "metadata": {
        "id": "elQqxL1EM5xu"
      },
      "source": [
        "set(data_train.columns) - set(data_test.columns)"
      ],
      "execution_count": null,
      "outputs": []
    },
    {
      "cell_type": "code",
      "metadata": {
        "id": "kKM470YdM5xu"
      },
      "source": [
        "data_train.shape, data_test.shape"
      ],
      "execution_count": null,
      "outputs": []
    },
    {
      "cell_type": "markdown",
      "metadata": {
        "id": "E_YCu5uYM5xu"
      },
      "source": [
        "#### There is no Holland in the test data. Create new zero-valued feature."
      ]
    },
    {
      "cell_type": "code",
      "metadata": {
        "id": "Uu8rw4sHM5xu"
      },
      "source": [
        "data_test['Country_ Holand-Netherlands'] = 0"
      ],
      "execution_count": null,
      "outputs": []
    },
    {
      "cell_type": "code",
      "metadata": {
        "id": "kctW-OBMM5xu"
      },
      "source": [
        "set(data_train.columns) - set(data_test.columns)"
      ],
      "execution_count": null,
      "outputs": []
    },
    {
      "cell_type": "code",
      "metadata": {
        "id": "21FboA2dM5xu"
      },
      "source": [
        "data_train.head(2)"
      ],
      "execution_count": null,
      "outputs": []
    },
    {
      "cell_type": "code",
      "metadata": {
        "id": "g2V-SsGzM5xv"
      },
      "source": [
        "data_test.head(2)"
      ],
      "execution_count": null,
      "outputs": []
    },
    {
      "cell_type": "code",
      "metadata": {
        "id": "gRqpCPzuM5xv"
      },
      "source": [
        "X_train = data_train.drop(['Target'], axis=1)\n",
        "y_train = data_train['Target']\n",
        "\n",
        "X_test = data_test.drop(['Target'], axis=1)\n",
        "y_test = data_test['Target']"
      ],
      "execution_count": null,
      "outputs": []
    },
    {
      "cell_type": "markdown",
      "metadata": {
        "id": "0SRoLy6jM5xv"
      },
      "source": [
        "### 3.1 Decision tree without parameter tuning"
      ]
    },
    {
      "cell_type": "markdown",
      "metadata": {
        "id": "YB7s-X19M5xv"
      },
      "source": [
        "Train a decision tree **(DecisionTreeClassifier)** with a maximum depth of 3, and evaluate the accuracy metric on the test data. Use parameter **random_state = 17** for results reproducibility."
      ]
    },
    {
      "cell_type": "code",
      "metadata": {
        "id": "QKQl0byKM5xw"
      },
      "source": [
        "# you code here\n",
        "# tree = \n",
        "# tree.fit"
      ],
      "execution_count": null,
      "outputs": []
    },
    {
      "cell_type": "markdown",
      "metadata": {
        "id": "L5vlS9IlM5xw"
      },
      "source": [
        "Make a prediction with the trained model on the test data."
      ]
    },
    {
      "cell_type": "code",
      "metadata": {
        "id": "FmK9AX6bM5xw"
      },
      "source": [
        "# you code here\n",
        "# tree_predictions = tree.predict "
      ],
      "execution_count": null,
      "outputs": []
    },
    {
      "cell_type": "code",
      "metadata": {
        "id": "CCQYhxv7M5xw"
      },
      "source": [
        "# you code here\n",
        "# accuracy_score "
      ],
      "execution_count": null,
      "outputs": []
    },
    {
      "cell_type": "markdown",
      "metadata": {
        "id": "rH6KV87IM5xw"
      },
      "source": [
        "6\\. What is the test set accuracy of a decision tree with maximum tree depth of 3 and **random_state = 17**?"
      ]
    },
    {
      "cell_type": "markdown",
      "metadata": {
        "id": "njAbpKpuM5xw"
      },
      "source": [
        "### 3.2 Decision tree with parameter tuning"
      ]
    },
    {
      "cell_type": "markdown",
      "metadata": {
        "id": "0zjz0FaOM5xx"
      },
      "source": [
        "Train a decision tree **(DecisionTreeClassifier, random_state = 17).** Find the optimal maximum depth using 5-fold cross-validation **(GridSearchCV)**."
      ]
    },
    {
      "cell_type": "code",
      "metadata": {
        "id": "Palt81CfM5xx"
      },
      "source": [
        "tree_params = {'max_depth': range(2,11)}\n",
        "\n",
        "locally_best_tree = GridSearchCV # you code here                     \n",
        "\n",
        "locally_best_tree.fit; # you code here "
      ],
      "execution_count": null,
      "outputs": []
    },
    {
      "cell_type": "markdown",
      "metadata": {
        "id": "eR7a0aQVM5xx"
      },
      "source": [
        "Train a decision tree with maximum depth of 9 (it is the best **max_depth** in my case), and compute the test set accuracy. Use parameter **random_state = 17** for reproducibility."
      ]
    },
    {
      "cell_type": "code",
      "metadata": {
        "id": "9ioy1hdEM5xy"
      },
      "source": [
        "# you code here \n",
        "# tuned_tree = \n",
        "# tuned_tree.fit \n",
        "# tuned_tree_predictions = tuned_tree.predict\n",
        "# accuracy_score"
      ],
      "execution_count": null,
      "outputs": []
    },
    {
      "cell_type": "markdown",
      "metadata": {
        "id": "6pYnAiDZM5xy"
      },
      "source": [
        "7\\. What is the test set accuracy of a decision tree with maximum depth of 9 and **random_state = 17**?"
      ]
    },
    {
      "cell_type": "markdown",
      "metadata": {
        "id": "noCtoV-DM5xy"
      },
      "source": [
        "### 3.3 (Optional) Random forest without parameter tuning"
      ]
    },
    {
      "cell_type": "markdown",
      "metadata": {
        "id": "ucZI4JfbM5xy"
      },
      "source": [
        "Let's take a sneak peek of upcoming lectures and try to use a random forest for our task. For now, you can imagine a random forest as a bunch of decision trees, trained on slightly different subsets of the training data."
      ]
    },
    {
      "cell_type": "markdown",
      "metadata": {
        "id": "Mw24zR5wM5xy"
      },
      "source": [
        "Train a random forest **(RandomForestClassifier)**. Set the number of trees to 100 and use **random_state = 17**."
      ]
    },
    {
      "cell_type": "code",
      "metadata": {
        "id": "zkSPZVEdM5xy"
      },
      "source": [
        "# you code here \n",
        "# rf = \n",
        "# rf.fit # you code here "
      ],
      "execution_count": null,
      "outputs": []
    },
    {
      "cell_type": "markdown",
      "metadata": {
        "id": "knXJwUriM5xz"
      },
      "source": [
        "Make predictions for the test data and assess accuracy."
      ]
    },
    {
      "cell_type": "code",
      "metadata": {
        "id": "L0KadA_9M5xz"
      },
      "source": [
        "# you code here "
      ],
      "execution_count": null,
      "outputs": []
    },
    {
      "cell_type": "markdown",
      "metadata": {
        "id": "9SW8EIwHM5xz"
      },
      "source": [
        "### 3.4 (Optional) Random forest with parameter tuning"
      ]
    },
    {
      "cell_type": "markdown",
      "metadata": {
        "id": "LeYtFwLHM5xz"
      },
      "source": [
        "Train a random forest **(RandomForestClassifier)**. Tune the maximum depth and maximum number of features for each tree using **GridSearchCV**. "
      ]
    },
    {
      "cell_type": "code",
      "metadata": {
        "id": "uhuIB4fpM5xz"
      },
      "source": [
        "# forest_params = {'max_depth': range(10, 21),\n",
        "#                 'max_features': range(5, 105, 20)}\n",
        "\n",
        "# locally_best_forest = GridSearchCV # you code here \n",
        "\n",
        "# locally_best_forest.fit # you code here "
      ],
      "execution_count": null,
      "outputs": []
    },
    {
      "cell_type": "markdown",
      "metadata": {
        "id": "8RGNxFFGM5x0"
      },
      "source": [
        "Make predictions for the test data and assess accuracy."
      ]
    },
    {
      "cell_type": "code",
      "metadata": {
        "trusted": true,
        "id": "UpoeSNfmM5x2"
      },
      "source": [
        "# you code here "
      ],
      "execution_count": null,
      "outputs": []
    }
  ]
}